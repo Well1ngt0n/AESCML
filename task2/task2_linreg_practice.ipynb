{
 "cells": [
  {
   "cell_type": "markdown",
   "metadata": {},
   "source": [
    "# ДЗ Линейная регрессия\n",
    "\n",
    "В данном задании мы рассмотрим набор данных об учащихся, собранный в 2006 году в одной из школ Португалии. Данные представлены в неудобном для машинного обучения виде, и содержат мусор. Ваша задача &mdash; привести их к надлежащему виду и обучить на них простую модель.\n",
    "\n",
    "Данные состоят из четырех файлов:\n",
    "- data.csv &mdash; основная таблица с информацией о учащихся\n",
    "- scores.csv &mdash; список финальных оценок по одному из предметов (20-балльная шкала переведенная в проценты)\n",
    "- attendance.csv &mdash; таблица посещений занятий по этому предмету\n",
    "- school_support.txt &mdash; список учащихся, которым оказывается финансовая поддержка\n",
    "\n",
    "Ваша задача &mdash; построить модель для предсказания финальных оценок исходя из всех остальных данных и проверить качество ее работы с помощью кросс-валидации. В качестве алгоритма мы будем использовать линейную регрессию\n",
    "\n",
    "Расшифровка столбцов в data.csv для справки:\n",
    "- age &mdash; возраст\n",
    "- Medu &mdash; уровень образования матери (по некоторой условной шкале)\n",
    "- Fedu &mdash; уровень образования отца (по некоторой условной шкале)\n",
    "- traveltime &mdash; время в пути до школы (1 – < 15 мин., 2 – от 15 до 30 мин., 3 – от 30 мин. to 1 ч.\n",
    "или 4 – > 1 ч.)\n",
    "- studytime &mdash; время, затрачиваемое на занятия вне школы (1 – < 2 ч., 2 – от 2 до 5 ч., 3 – от 5 до 10 ч. или 4 – > 10 ч.)\n",
    "- famrel &mdash; насколько хорошие отношения в семье у учащегося (по некоторой условной шкале)\n",
    "- freetime &mdash; количество свободного времени вне школы (по некоторой условной шкале)\n",
    "- goout &mdash; время, затрачиваемое на общение с друзьями (по некоторой условной шкале)\n",
    "- Dalc &mdash; количество употребления алкоголя в учебные дни (по некоторой условной шкале)\n",
    "- Walc &mdash; количество употребления алкоголя в неучебные дни (по некоторой условной шкале)\n",
    "- health &mdash; уровень здоровья (по некоторой условной шкале)\n",
    "- sex_M &mdash; пол: мужской (1) или женский (0)\n",
    "- address_U &mdash; живет ли учащийся в городе (1) или в пригороде (0)\n",
    "- famsize_LE3 &mdash; размер семьи: не больше 3 человек (1) или больше (0)\n",
    "- Pstatus_T &mdash; живут ли родители вместе (1) или отдельно (0)\n",
    "- nursery &mdash; посещал ли учащийся детский сад\n",
    "- plans_university &mdash; планирует ли учащийся поступать в университет (-1 или 1)\n",
    "- past_failures &mdash; количество неудовлетворительных оценок по другим предметам ранее (от 0 до 4)\n",
    "\n",
    "*Примечание. Несколько признаков в данных содержат ошибки/проблемы/некорректности. Эти проблемы нужно исправить. Для\n",
    "проверки &mdash; всего в данных таких проблем четыре.*"
   ]
  },
  {
   "cell_type": "markdown",
   "metadata": {},
   "source": [
    "### Задача 1: сломанный признак (а может и не один)\n",
    "__(1 балл)__\n",
    "\n",
    "Загрузите таблицу data.csv.\n",
    "\n",
    "Найдите в данных сломанный признак (он не соответствует описанию) и исправьте его."
   ]
  },
  {
   "cell_type": "code",
   "execution_count": 12,
   "metadata": {
    "collapsed": true
   },
   "outputs": [],
   "source": [
    "import csv\n",
    "\n",
    "with open(\"data.csv\", encoding=\"utf-8\") as rFile:\n",
    "    reader = csv.reader(rFile, delimiter=',')\n",
    "    with open(\"data_fixed.csv\", mode='w', encoding=\"utf-8\") as wFile:\n",
    "        writer = csv.writer(wFile, delimiter=',', lineterminator=\"\\r\")\n",
    "        writer.writerow(['age', 'Medu', 'Fedu', 'traveltime', 'studytime', 'famrel', 'freetime', 'goout', 'Dalc', 'Walc', 'health', 'sex_M', 'address_U', 'famsize_LE3', 'Pstatus_T', 'nursery', 'plans_university', 'past_failures'])\n",
    "        fl = 0\n",
    "        for row in reader:\n",
    "            if fl == 0:\n",
    "                fl = 1\n",
    "                continue\n",
    "            if (int(row[0]) > 100):\n",
    "                row[0] = str(2016 - int(row[0]))\n",
    "            last = row[-1]\n",
    "            row[-1] = last[:len(last) - 1]\n",
    "            row.append(last[len(last) - 1])\n",
    "            writer.writerow(row)"
   ]
  },
  {
   "cell_type": "markdown",
   "metadata": {},
   "source": [
    "### Задача 2: пропуски в данных \n",
    "__(1 балл)__\n",
    "\n",
    "Проверьте, есть ли в данных пропуски (значения NaN). Замените все пропущенные значения на среднее значение этого признака по столбцу.\n",
    "\n",
    "__(+1 балл)__\n",
    "\n",
    "Дополнительно сравните качество замены на среднее по столбцу и на медиану по столбцу\n",
    "\n",
    "\n",
    "*Hint: изучите в pandas функции loc, isnull, а также передачу булевых массивов в качестве индексов.*"
   ]
  },
  {
   "cell_type": "code",
   "execution_count": 71,
   "metadata": {
    "collapsed": true
   },
   "outputs": [],
   "source": [
    "import pandas as pd\n",
    "\n",
    "pd.options.mode.chained_assignment = None \n",
    "\n",
    "df = pd.read_csv(\"data_fixed.csv\", delimiter=',')\n",
    "\n",
    "for col in df:\n",
    "    df[col][df[col].isnull()] = df[col].mean()\n",
    "\n",
    "df.to_csv(\"data_fixed2.csv\", index=False)\n",
    "\n",
    "# Чето не получается сравнивать без модельки\n",
    "        "
   ]
  },
  {
   "cell_type": "code",
   "execution_count": 341,
   "metadata": {},
   "outputs": [],
   "source": [
    "import pandas as pd\n",
    "\n",
    "pd.options.mode.chained_assignment = None \n",
    "\n",
    "df = pd.read_csv(\"data_fixed.csv\", delimiter=',')\n",
    "\n",
    "for col in df:\n",
    "    df[col][df[col].isnull()] = df[col].median()\n",
    "\n",
    "df.to_csv(\"data_fixed2.csv\", index=False)\n",
    "\n",
    "# Чето не получается сравнивать без модельки"
   ]
  },
  {
   "cell_type": "markdown",
   "metadata": {},
   "source": [
    "### Задача 3: нормализация данных\n",
    "__(1 балл)__\n",
    "\n",
    "Нормализуйте данные любым способом"
   ]
  },
  {
   "cell_type": "code",
   "execution_count": 335,
   "metadata": {
    "collapsed": true
   },
   "outputs": [
    {
     "name": "stdout",
     "output_type": "stream",
     "text": [
      "          age      Medu      Fedu  traveltime  studytime    famrel  freetime  \\\n",
      "0   -0.505260  1.309206  1.539528   -0.275135   0.083588  1.118885  0.779877   \n",
      "1    0.047714  1.309206  1.539528   -0.275135  -1.121943  1.118885 -0.171514   \n",
      "2   -0.505260 -1.335010 -1.187916    0.093035  -1.121943  0.072550  1.731268   \n",
      "3    0.600688 -1.335010 -0.278768    0.093035  -1.121943 -0.973785  0.779877   \n",
      "4    0.047714 -0.453605 -1.187916    0.093035   0.083588  0.072550 -1.122905   \n",
      "..        ...       ...       ...         ...        ...       ...       ...   \n",
      "644  0.600688 -0.453605 -0.278768    0.829375   0.083588  0.072550 -1.122905   \n",
      "645 -1.058234  1.309206  1.539528    0.093035   0.083588  0.072550 -0.171514   \n",
      "646  2.259611 -1.335010 -1.187916    0.093035   0.083588  1.118885 -0.171514   \n",
      "647 -0.505260 -0.453605 -0.278768   -0.275135  -1.121943  0.072550 -0.171514   \n",
      "648 -0.505260 -0.453605  0.630380   14.083489   0.083588  0.072550  1.731268   \n",
      "\n",
      "        goout      Dalc      Walc    health     sex_M  address_U  famsize_LE3  \\\n",
      "0    0.692470 -0.532729 -0.221479  1.012122  1.199013   0.659674    -0.647676   \n",
      "1    0.692470 -0.532729 -0.221479  1.012122 -0.832735   0.659674    -0.647676   \n",
      "2    1.543631  0.554507  1.340910  1.012122  1.199013  -1.513566     1.541603   \n",
      "3    0.692470  0.554507  1.340910  0.320683  1.199013   0.659674    -0.647676   \n",
      "4    1.543631 -0.532729 -0.221479  1.012122 -0.832735  -1.513566    -0.647676   \n",
      "..        ...       ...       ...       ...       ...        ...          ...   \n",
      "644  1.543631 -0.532729 -1.002674 -1.062195 -0.832735   0.659674    -0.647676   \n",
      "645 -1.861013 -0.532729 -1.002674  1.012122  1.199013   0.659674    -0.647676   \n",
      "646 -0.158691  3.816216 -0.221479  0.320683  1.199013  -1.513566     1.541603   \n",
      "647  0.692470 -0.532729 -0.221479 -1.753634 -0.832735   0.659674     1.541603   \n",
      "648  0.692470 -0.532729 -0.221479 -1.753634 -0.832735  -1.513566    -0.647676   \n",
      "\n",
      "     Pstatus_T   nursery  plans_university  past_failures  \n",
      "0     0.374674  0.495281          0.344648      -0.374017  \n",
      "1     0.374674  0.495281          0.344648      -0.374017  \n",
      "2     0.374674  0.495281          0.344648      -0.374017  \n",
      "3     0.374674 -2.015947         -2.897041      -0.374017  \n",
      "4     0.374674  0.495281          0.344648      -0.374017  \n",
      "..         ...       ...               ...            ...  \n",
      "644   0.374674  0.495281          0.344648      -0.374017  \n",
      "645   0.374674  0.495281          0.344648      -0.374017  \n",
      "646   0.374674  0.495281         -2.897041       2.997328  \n",
      "647  -2.664872  0.495281         -2.897041      -0.374017  \n",
      "648   0.374674  0.495281          0.344648      -0.374017  \n",
      "\n",
      "[649 rows x 18 columns]\n"
     ]
    }
   ],
   "source": [
    "import pandas as pd\n",
    "import numpy as np\n",
    "\n",
    "def norm(data):\n",
    "    for col in data:\n",
    "        data[col] = (data[col] - data[col].mean()) / data[col].std()\n",
    "    return data\n",
    "\n",
    "df = pd.read_csv(\"data_fixed2.csv\")\n",
    "\n",
    "df = norm(df)\n",
    "\n",
    "print(df)\n",
    "df.to_csv(\"data_fixed3.csv\", index=False)\n",
    "\n"
   ]
  },
  {
   "cell_type": "markdown",
   "metadata": {},
   "source": [
    "### Задача 4: кросс-валидация для исходных данных\n",
    "__(1 балл)__\n",
    "\n",
    "Загрузите файл scores.csv и протестируйте, как линейная регрессия предсказывает ответ сейчас (с помощью кросс-валидации).\n",
    "\n",
    "*Hint: воспользуйтесь sklearn.linear_model и sklearn.model_selection.*"
   ]
  },
  {
   "cell_type": "code",
   "execution_count": 360,
   "metadata": {},
   "outputs": [
    {
     "name": "stdout",
     "output_type": "stream",
     "text": [
      "0.18636856509350663\n",
      "-61.47338976292036\n"
     ]
    }
   ],
   "source": [
    "import pandas as pd\n",
    "import numpy as np\n",
    "from math import sqrt\n",
    "from sklearn.linear_model import LinearRegression\n",
    "from sklearn.model_selection import cross_validate\n",
    "\n",
    "data = pd.read_csv(\"data_fixed3.csv\")\n",
    "ans = pd.read_csv(\"scores.csv\")\n",
    "\n",
    "data = data.sample(frac=1).reset_index(drop=True)\n",
    "model = LinearRegression()\n",
    "scores = cross_validate(model, data, ans, cv=10, scoring=(\"r2\", \"max_error\"), return_train_score=True)\n",
    "print(sqrt(scores[\"train_r2\"].mean()))\n",
    "print(scores[\"train_max_error\"].mean())\n",
    "\n",
    "# В целом работает неплохо, но видимо когда оценка у чела 0, ошибается"
   ]
  },
  {
   "cell_type": "markdown",
   "metadata": {},
   "source": [
    "### Задача 5: полные данные\n",
    "__(2 балла)__\n",
    "\n",
    "Воспользуйтесь файлами attendance.csv и school_support.txt для того, чтобы добавить новые признаки в данные. Желательно по максимуму использовать возможности pandas для упрощения преобразований.\n",
    "\n",
    "school_suport число в строке значит что i-ый школьник из исходной таблицы получал мат помощь (обратите внимание что строк в файле меньше, подумайте как правильно импортировать данные)\n",
    "\n",
    "Попробуйте несколько способов добавления полных данных"
   ]
  },
  {
   "cell_type": "code",
   "execution_count": 354,
   "metadata": {
    "collapsed": true
   },
   "outputs": [],
   "source": [
    "import pandas as pd\n",
    "import numpy as np\n",
    "\n",
    "data = pd.read_csv(\"data_fixed2.csv\")\n",
    "\n",
    "school_sup = np.array([0] * 649)\n",
    "\n",
    "with open(\"school_support.txt\", \"r\", encoding=\"utf-8\") as sch_sup_file:\n",
    "    inds = [int(i) - 1 for i in sch_sup_file.readlines()]\n",
    "    school_sup[inds] = 1\n",
    "data[\"school_support\"] = school_sup\n",
    "\n",
    "attendance = pd.read_csv(\"attendance.csv\", sep=';')\n",
    "attendance_new = []\n",
    "for i, row in attendance.iterrows():\n",
    "    attendance_new.append(32 - len(row[row == '+']))\n",
    "attendance_new = np.array(attendance_new)"
   ]
  },
  {
   "cell_type": "code",
   "execution_count": 355,
   "metadata": {},
   "outputs": [],
   "source": [
    "data[\"attendance\"] = attendance_new / 32 # работает лучше всего"
   ]
  },
  {
   "cell_type": "code",
   "execution_count": 239,
   "metadata": {},
   "outputs": [],
   "source": [
    "data[\"attendance\"] = attendance_new"
   ]
  },
  {
   "cell_type": "code",
   "execution_count": 241,
   "metadata": {},
   "outputs": [],
   "source": [
    "data[\"attendance\"] = 32 - attendance_new"
   ]
  },
  {
   "cell_type": "code",
   "execution_count": 343,
   "metadata": {},
   "outputs": [],
   "source": [
    "data[\"attendance\"] = (32 - attendance_new) / 32 # эта штука тоже неплохо на самом деле"
   ]
  },
  {
   "cell_type": "code",
   "execution_count": 398,
   "metadata": {},
   "outputs": [
    {
     "name": "stdout",
     "output_type": "stream",
     "text": [
      "0.22793423168253862\n",
      "-0.32582030409451646\n"
     ]
    }
   ],
   "source": [
    "data.to_csv(\"data_fixed4.csv\", index=False)\n",
    "data = data.sample(frac=1).reset_index(drop=True)\n",
    "model = LinearRegression()\n",
    "scores = cross_validate(model, data, ans, cv=10, scoring=(\"r2\", \"max_error\"), return_train_score=True)\n",
    "print(sqrt(scores[\"train_r2\"].mean()))\n",
    "print(scores[\"train_max_error\"].mean())"
   ]
  },
  {
   "cell_type": "markdown",
   "metadata": {},
   "source": [
    "### Задача 6: борьба с выбросами\n",
    "__(1.5 балла)__\n",
    "\n",
    "Качество предсказания может ухудшаться, если в данных присутствуют корректные значения признаков (с точки зрения чтения данных и применения методов), но не соответствующие реальным объектам. Например, данные могли быть введены в неверном формате, а потом слишком грубо приведены к общему виду, из-за чего ошибка не была замечена.\n",
    "Попробуем от такого избавиться &mdash; а для этого такие объекты нужно сначала найти. Конечно, нам еще недоступны многие продвинутые способы, но давайте попробуем обойтись простыми.\n",
    "\n",
    "Первый способ это сделать &mdash; посмотреть для каждого признака на распределение его значений и проверить крайние значения на правдоподобность. (постройте гистограммы для признаков, как минимум для подозрительных)\n",
    "\n",
    "*Hint 1: используйте функцию DataFrame.hist*\n",
    "\n",
    "*Hint 2: в описании датасета выше есть информация, необходимая для восстановления правильных значений*"
   ]
  },
  {
   "cell_type": "code",
   "execution_count": 293,
   "metadata": {
    "collapsed": true
   },
   "outputs": [
    {
     "name": "stdout",
     "output_type": "stream",
     "text": [
      "0       1\n",
      "1       1\n",
      "2       2\n",
      "3       2\n",
      "4       2\n",
      "       ..\n",
      "644     4\n",
      "645     2\n",
      "646     2\n",
      "647     1\n",
      "648    40\n",
      "Name: traveltime, Length: 649, dtype: int64\n"
     ]
    },
    {
     "data": {
      "text/plain": [
       "<Axes: >"
      ]
     },
     "execution_count": 293,
     "metadata": {},
     "output_type": "execute_result"
    },
    {
     "data": {
      "image/png": "[encoded data removed]",
      "text/plain": [
       "<Figure size 640x480 with 1 Axes>"
      ]
     },
     "metadata": {},
     "output_type": "display_data"
    }
   ],
   "source": [
    "import pandas as pd\n",
    "import numpy as np\n",
    "\n",
    "data = pd.read_csv(\"data_fixed4.csv\")\n",
    "# data.hist()\n",
    "print(data[\"traveltime\"])\n",
    "data[\"traveltime\"].hist()\n",
    "\n"
   ]
  },
  {
   "cell_type": "code",
   "execution_count": 357,
   "metadata": {},
   "outputs": [
    {
     "name": "stderr",
     "output_type": "stream",
     "text": [
      "C:\\Users\\ohmei\\AppData\\Local\\Temp\\ipykernel_9016\\964442674.py:3: FutureWarning: Setting an item of incompatible dtype is deprecated and will raise in a future error of pandas. Value '16.565217391304348' has dtype incompatible with int64, please explicitly cast to a compatible dtype first.\n",
      "  data[\"age\"][data[\"age\"] > 18] = data[\"age\"][data[\"age\"] <= 18].mean()\n"
     ]
    }
   ],
   "source": [
    "data = pd.read_csv(\"data_fixed4.csv\")\n",
    "\n",
    "data[\"age\"][data[\"age\"] > 18] = data[\"age\"][data[\"age\"] <= 18].mean()\n",
    "# data[\"traveltime\"][4 < data[\"traveltime\"] < 15] = 1\n",
    "# data[\"traveltime\"][15 <= data[\"traveltime\"] < 30] = 2\n",
    "# data[\"traveltime\"][30 <= data[\"traveltime\"] < 60] = 3\n",
    "# data[\"traveltime\"][60 <= data[\"traveltime\"]] = 4\n",
    "\n",
    "for i in range(len(data['traveltime'])):\n",
    "    if data['traveltime'][i] > 4:\n",
    "        if data['traveltime'][i] < 15:\n",
    "            data['traveltime'][i] = 1\n",
    "        elif data['traveltime'][i] < 30:\n",
    "            data['traveltime'][i] = 2\n",
    "        elif data['traveltime'][i] < 60:\n",
    "            data['traveltime'][i] = 3\n",
    "        else:\n",
    "            data['traveltime'][i] = 4\n",
    "\n",
    "data.to_csv(\"data_fixed5.csv\", index=False)\n"
   ]
  },
  {
   "cell_type": "markdown",
   "metadata": {},
   "source": [
    "__(1.5 балла)__"
   ]
  },
  {
   "cell_type": "markdown",
   "metadata": {},
   "source": [
    "Другой простой способ найти выбросы &mdash; сделать предсказаниепосчитать ошибку на каждом объекте по отдельности и посмотреть на объекты с наибольшей ошибкой. Обратите внимание, что просто удалять все объекты с высокой ошибкой нельзя &mdash; это, конечно, хороший способ добиться меньшей ошибки (на данной выборке), но одновременно вы ухудшите обобщающую способность алгоритма. Вместо этого вам нужно найти однозначно ошибочные записи и их исправить.\n",
    "\n",
    "*Hint: возможно, все проблемы уже были найдены первым способом; для проверки &mdash; в сумме здесь нужно исправить 3 проблемы.*"
   ]
  },
  {
   "cell_type": "markdown",
   "metadata": {},
   "source": [
    "Для поиска ошибки на одном отдельном обьекте придётся обучить линейную регрессию руками. Частичный пример, допишите код. Постройте гистограмму распределения ошибок"
   ]
  },
  {
   "cell_type": "code",
   "execution_count": 396,
   "metadata": {},
   "outputs": [
    {
     "name": "stdout",
     "output_type": "stream",
     "text": [
      "[0.004268617133058156, 0.03387571008858665, 0.00616193109692438, 0.0036329324305355297, 0.003421763759545295, 0.027917257270697673, 0.005868484608424349, 0.018879092777415046, 0.0008134774540126648, 0.0188276752904979, 0.005908272987042263, 0.0050220305956924375, 0.003792683781804429, 0.015603733512710903, 0.0590236174730873, 4.278923418607987e-06, 0.08289499034468287, 0.04581920258802309, 0.0010868835998289706, 0.00667460703750042, 0.020863106989943685, 0.009373427106585073, 0.0010147081691628261, 0.009380699995647359, 0.027226279607938716, 0.011717201857253872, 0.06735442113038485, 0.00965920710620886, 0.013869777078140683, 0.0003629498582877314, 0.01040865512389602, 0.006647406530186655, 0.011373654749713058, 0.006745804013489501, 0.048278544829992234, 0.001287378104693344, 0.020066646282581826, 2.596557392861693e-05, 0.0026420806053929742, 0.011632505466104897, 0.004834764707862655, 0.00821463207637623, 0.0007954048793559826, 0.02676190637490999, 0.0006820478712152733, 9.350059750499879e-05, 0.03698862497239926, 0.007271042070417562, 0.027005287560740433, 3.608004875330857e-05, 0.0004323610068449436, 0.0011038812889443005, 0.000786211619267815, 0.028662383025452248, 0.0002615829043798618, 0.00018701185300484165, 3.484578239558605e-06, 0.008217714943640476, 0.0018427380184459503, 0.019155829167840043, 0.0006484237583306151, 0.0017428644921366188, 0.02055272696181627, 0.002920367060363612, 0.0011743536819257161, 0.0036125875839707854, 0.0014713946937288441, 0.011846991375704635, 0.00030907654204356713, 0.013247483117958, 0.046573099158481526, 0.03997541510363745, 0.012132501596001419, 0.03712166439422322, 0.016495286123580363, 0.0033881029096617214, 0.0031308402101753257, 0.008049972548470646, 0.013071795928879026, 0.009371032315305899, 0.07964868828139123, 0.013280054339550658, 0.011658773988301811, 0.0014019303165118528, 0.02125648135262786, 0.014636814844132515, 0.040814712829777146, 0.0005324438433639251, 0.0008653643879339613, 0.0006604096354041329, 0.0056153531195640635, 0.0035989189156350894, 0.0037571563010389652, 0.02581849185512214, 1.0048315394724575e-05, 0.03114477343434003, 0.0022230741888401707, 0.0055564736218398445, 0.03311327662588641, 5.145527388514384e-05, 0.006109549561209989, 0.0034196526293397383, 7.857483733047224e-05, 7.537659278862485e-05, 5.258023123846666e-05, 0.022022238579342338, 0.03547945319659569, 0.01363286043306235, 0.012617718753583026, 0.026159029616954762, 0.009296045858891542, 1.3114161773200823e-06, 0.002095191665016023, 0.013070339426548465, 0.0012466695685359962, 0.0006689650594439125, 0.0037851032660174734, 0.05048863840684119, 0.07114831486605609, 0.001448846868640445, 2.0193085831101517e-07, 0.011332426015412681, 0.009473815517957677, 0.0005270893919794911, 0.022681792630710622, 0.00797685166680904, 0.00021551750722725272, 0.0017219804212405365, 0.011966907944728697, 0.0017637948667170464, 0.0011030441444863433, 0.023398431004568822, 0.0005164145170328438, 0.011661197872116747, 0.03154937190284836, 0.009893411174586893, 0.07988224228370483, 0.01702650870024414, 1.6803819781830743e-07, 0.011049400943771116, 0.03491462924729487, 0.03718339991890451, 0.0023550129291691896, 0.0003162190744008633, 0.0032494497119506366, 0.002857982153234915, 1.1210037904639706e-05, 0.03109073937164537, 0.0092051953681646, 0.014993575368350524, 0.01171554802615321, 0.0017006138717318247, 0.011421783196083854, 0.025317626175016466, 0.011346810012966925, 6.803695641626551e-06, 0.00015264841409059557, 0.004364820089454735, 0.03606706663822148, 0.01954605108788086, 0.008162407422670392, 0.007830431230555246, 0.0015484120649606936, 0.003622881921835771, 0.00026605368325584896, 0.08263753120345661, 0.008865103579514888, 0.00012750127147444186, 0.008969229526083984, 0.0025074136668431436, 9.388293115093841e-05, 3.0803856438933826e-05, 0.03382482395896436, 0.03464942773812374, 0.06445387963455844, 0.005996965824616931, 0.005247225776601563, 0.002505346613215629, 0.010991551660086538, 0.01691935705866637, 0.0002776697569650979, 0.0017574929417604904, 0.027892456913614746, 0.0033329373110576868, 0.007263926386939934, 0.004166295455981031, 0.0017970826331419392, 0.00012443581155754127, 0.083267664042375, 0.002823167226541255, 0.008191149183764622, 0.015940854798291708, 0.009878149548167193, 0.00131566321467031, 0.003864636671894181, 0.028641830974236848, 0.035125086803404176, 0.007555257599947931, 0.02819640700877759, 0.014573632129390984, 0.022834493503701824, 0.004411688339779229, 0.0020349035627236, 0.0012169024764665433, 0.00029969322753819035, 0.04330698668450058, 0.04641485179477955, 4.6657831598607044e-05, 0.03891121668724116, 0.0006538880750284675, 0.005635022509737087, 0.0023590277380316524, 0.0011107505365493032, 0.0002734059255105001, 0.006005907198134538, 0.014062670451306563, 0.011830196709559425, 0.0024557063618091367, 0.005123027989985165, 0.010655219434636818, 0.016489181472604007, 0.0031647268446459665, 0.01923082974425618, 0.0014998831488069178, 0.006576446413256694, 0.03587023560205323, 0.027395166410547317, 0.0025948247838225393, 0.0021867416753602003, 0.004457883369401246, 0.0003180613160473753, 0.005780967919001985, 9.364933752040682e-06, 0.020731024366115024, 0.0034991559349535828, 0.02561046091288143, 0.0037378878766204447, 0.017957734163522865, 0.0028455195821015925, 0.011542031276215576, 0.030766262673247675, 0.00617636406018025, 0.016639384973088076, 0.00532656297788474, 0.011758577066399139, 0.027245254090107324, 0.007469666933534291, 0.018443911638970585, 0.023160181357105267, 0.0014134602684726183, 0.017020572581974928, 0.035249464051488585, 0.003972364799908823, 7.67082782599182e-05, 0.019599724680623414, 0.008521474575424523, 0.0033454255639003092, 5.527617390912891e-05, 1.291594346688422e-06, 0.009160429752090258, 0.0002916474655000561, 0.008612697152983762, 0.06601773616155729, 0.011081114092481074, 4.345007015087071e-07, 0.0652911627111375, 0.0043059029634932005, 0.000647385541705197, 0.002524753047562404, 0.004126226333848492, 0.001430721537571706, 0.00973157278812975, 0.005531997220520064, 0.0009827925671556715, 0.0063442976438067905, 0.011632647853299066, 0.04030170151385583, 0.03999512717082927, 0.047520777144565186, 0.0009790876285042166, 0.0027979020311424572, 0.009400903679427267, 0.0035748267039859335, 8.33512843019846e-05, 0.024912535724388056, 0.031446582373005724, 1.1905867971935957e-05, 0.015940211037380858, 0.0005491508229190147, 0.0025022498004901154, 0.0038390058163695036, 0.0005163677959279296, 0.03894174683228071, 0.017691989459193824, 0.017649662867800564, 0.001168337818723535, 0.03134908934619872, 0.0007624089662093928, 0.022253823042198313, 0.03444056158926722, 0.04879284092887464, 0.01035819257342965, 0.003834173980604643, 0.00021161523120348294, 0.018352324233938545, 0.017877549851382225, 0.0019483048142539645, 0.0002578398784256042, 0.01908184189295804, 0.0008294277945360708, 0.027698650282367274, 0.06927619699605045, 0.011504944470429282, 0.01581980225634725, 0.0017213392835349732, 0.014204783410713781, 6.240016647223918e-05, 0.02229152941553995, 0.002652646009428678, 0.0037708999610507727, 0.006799983652097807, 0.05386830940977542, 0.0006857490820750811, 6.502125498820954e-05, 0.0007612597941308644, 0.002374619200228229, 0.04192229164297628, 0.0009849107506746855, 0.0006059666086189225, 0.003693827207200394, 0.0023438430194544714, 0.0006030980099636378, 0.0006905761179167053, 0.03444105181629652, 0.011779976449914112, 0.005802925894633201, 0.0002481734776179324, 0.00017920193119807813, 0.009903934565808523, 0.0005992690597251311, 0.023229122875743146, 0.03477529755821412, 0.008139948227495536, 0.010021594174753314, 0.0011748733454755192, 0.013423798700469083, 0.01019081076507272, 0.03244582795603603, 0.0013092246343000883, 0.035028976996435125, 0.007309394292558637, 0.010201004791391572, 0.008649460235612371, 0.0016292670178606416, 0.008783861036062502, 0.0005288153002076348, 0.00012657037142324565, 0.016235426176660975, 0.01780925889133199, 0.027487418252283687, 0.0012987112653236243, 0.005092183246747749, 0.0005544781984360977, 0.00018757998632441925, 0.0029233621621681085, 0.0025083214254113836, 0.011544027534080665, 0.0011991853616824528, 7.072592522197054e-05, 0.027501965886145854, 0.00012132485446027785, 0.003705434170818486, 1.0959468737802722e-06, 0.009182032092032336, 0.0009000224857131834, 0.015058126566889988, 0.00768910662624898, 2.823759745776992e-05, 0.001160229556607849, 0.0103258400355064, 0.016715961453134965, 0.00284843483670619, 0.0008130056386712142, 0.001604159469867442, 8.81274116451913e-06, 0.0008244958027400648, 0.0068048813046226566, 0.0028364584478182304, 2.7798971301098312e-05, 0.0028933019232730275, 0.018765498070143827, 0.011860246195613032, 0.004718935814087756, 0.003514301073514454, 0.006192104740285229, 0.01345732418157889, 0.015332029028680798, 0.0006348998136324681, 0.004174623446077815, 0.0011612886566137258, 0.00027961479931114074, 0.010931352344876286, 6.169849349086715e-05, 0.011135875112897702, 0.0003459668602268672, 0.025688788690018997, 0.030848217856766693, 0.0013037909126831352, 0.0116600827352612, 0.00046441573333175137, 0.010327200681416175, 0.017691854254982674, 0.0035735221563314877, 0.008885859721417198, 0.0018567978955901553, 0.0015973557492854969, 0.04103859935893425, 0.0013292109337496238, 0.0003294691267330257, 0.0012766875091069494, 0.0038990127313314475, 0.0009046667904695952, 0.0061875233486622, 0.0013434393487070234, 0.01381803063015319, 1.4857324876137972e-05, 0.002217057529758376, 0.018900911370328902, 0.0033803807099197264, 0.014752304435554097, 0.04442999515075079, 0.001653029536222831, 8.801327056946771e-05, 0.00010285218256777838, 0.0005012191698968186, 0.005113906336295535, 0.004519674898222808, 0.0004195807807257881, 0.0783210251866329, 0.0022498929089746133, 0.04225954576798152, 0.003927018359546969, 0.0028391320046468305, 0.00613557697102293, 0.016162446298606317, 0.0005684906719282265, 4.4151338079407756e-05, 8.30961143921394e-08, 0.002549312579800336, 0.0033987261587618642, 0.0028362700842346463, 0.011795756186714088, 0.016030043458545702, 0.0012503956310865754, 0.02778166398150087, 0.0009157893186795369, 0.0006404027292311367, 0.004871301901636111, 4.775423167414529e-06, 0.008524105533472099, 0.0015917995400994242, 0.00029708096589526066, 0.00016298424901974539, 0.006738508854201708, 2.0063511048348395e-05, 0.008537323612491049, 0.00434940745032258, 0.0027820770705579995, 0.002143849705233207, 0.0011220263501413158, 8.212328797215543e-05, 0.0055675302032943816, 0.0011590466903170216, 0.03798209621991864, 0.0018290281052924127, 0.01714212142794923, 0.05074877790343391, 0.01880293271621744, 0.0376238591790224, 0.003770076624682741, 0.0370831374784399, 0.05956555878518264, 0.005007133985706504, 0.0029756295297984894, 0.003244009783663754, 8.803814318486808e-06, 0.008784335354882981, 4.4329395762024364e-05, 0.01349228697506315, 0.02237086818643572, 0.008651231492277906, 0.011090871939569542, 0.00017478500970136441, 0.0014541556766271794, 0.05417066791351334, 0.031181401673816014, 0.004945029498668866, 0.006182182076985116, 0.001955924897718416, 0.0006714051806422504, 0.03003686175011108, 0.008511158704836964, 0.024240822577399363, 2.8347306234548114e-05, 0.0025748890349494035, 0.009162237423189092, 0.021370674398986534, 0.030125933311576668, 0.05177350093801236, 0.0032210823180307516, 0.001371926228681986, 0.00191686988016252, 0.0005066717416238219, 0.026901354568368625, 0.007177846213205938, 0.006663176352315839, 0.03654780629986813, 0.0011222105239266093, 0.0005598185607528784, 0.002823812204673253, 0.043548946478458576, 0.015668684125934747, 0.01668175311796779, 0.004572907950037515, 0.023083140143954586, 0.00557249906034263, 0.00024574511239654206, 0.00015240781744508246, 0.006170746983685146, 0.00047292785367252784, 0.0008482743747989329, 0.00011928349129703398, 0.004701812147779795, 0.0013832661089949949, 0.07128548100640508, 0.07159154330550324, 0.00012915007528369347, 0.00808722413921786, 0.007114300171303126, 0.020074167824437834, 0.04377708045815175, 0.02370967285415955, 0.012850013647922124, 0.006137274108397757, 0.08093166080000924, 0.004914715524093718, 9.346699589951023e-05, 0.030877091467913106, 0.016605930363502636, 0.00022468197744874704, 0.016335967855650273, 0.0010777707684831736, 0.005906556423458562, 6.92875038632139e-05, 0.003124465943645819, 8.046502337863125e-05, 0.0037536255911240317, 0.0027411486486655368, 0.0004431959036155123, 0.00030279080141760426, 0.0017820066572766338, 0.005924348769875775, 0.003350791507326485, 0.0006924351184068157, 0.0058591965424065855, 7.014513804957526e-06, 0.006598404241321686, 0.09517370367517997, 0.011892349418557003, 6.63235267306567e-06, 0.016159830863310774, 0.006380481092033359, 0.001970200474538293, 0.0009824720183110875, 0.009619521656812726, 0.015401127135219805, 0.015200775819644024, 0.0025980183912494475, 0.02315836710693121, 0.0016905755603247696, 7.171121931184587e-05, 0.010033521970700083, 0.018847048598005213, 0.03105625443056715, 3.90571521528052e-05, 0.0010056778194144646, 0.004067629846043698, 0.007263191133902808, 0.011709775914647901, 0.013927943375690173, 0.005818949094479433, 0.0006642201677167124, 0.025768416424962318, 0.013115043241158328, 0.0038565773316664095, 0.025123655968356043, 0.056787176515962226, 0.01735622979860888, 3.1648110153698815e-06, 0.021060730919317136, 0.0005588213101349936, 0.025014130779557397, 0.0003369194823447541, 0.015632568197162248, 1.8950362043725023e-05, 0.0011161093128813136, 0.0006282471570156916, 0.00490605466306464, 0.0004762230771965059, 0.0009388447197074343, 0.04380324342778034, 2.191638929194154e-06, 0.011307528153320309, 0.008131167024230506, 0.01518497000647771, 0.005405835873806308, 0.014495305127326948, 0.009353541696169363, 0.003868905102187875, 0.024827239979100066, 0.002369490872887647, 0.0023124853520985287, 0.017856293554907095, 0.013855403600379807, 0.005451130368279443, 0.0012049101406806314, 0.02519629046352573, 0.01079026350037495, 0.0030294681852891256, 0.0024249338112200566, 0.028062822166102185, 1.9288593706020398e-05, 0.0002374584197215991, 0.02330733961801901, 0.0013847374984493758, 0.0005211540203362685, 0.0017111477978107587, 0.0039652165987783435, 0.001510898068991518, 0.001639773865463972, 0.00016302562408023277, 0.007196033445313404, 0.007111358649326401, 0.0004226851400815993, 0.02631274456680534, 0.010728479790125893, 0.03449527452600095, 0.020247745909383653, 0.015455565438024708]\n"
     ]
    },
    {
     "data": {
      "image/png": "[encoded data removed]",
      "text/plain": [
       "<Figure size 640x480 with 1 Axes>"
      ]
     },
     "metadata": {},
     "output_type": "display_data"
    }
   ],
   "source": [
    "import sklearn\n",
    "from sklearn import linear_model\n",
    "from matplotlib import pyplot as plt\n",
    "\n",
    "data = norm(pd.read_csv(\"data_fixed5.csv\"))\n",
    "\n",
    "ans = pd.read_csv(\"scores.csv\")\n",
    "ans[\"score\"] /= 100\n",
    "ans[\"score\"][ans[\"score\"] < 0.06] = ans[\"score\"][ans[\"score\"] >= 0.06].mean() #Так значительно лучше ответы, ну и странно что у челов по 0 за тест, может они не пришли хз\n",
    "\n",
    "regression = linear_model.LinearRegression().fit(data, ans) #create model and train it\n",
    "prediction = regression.predict(data)\n",
    "\n",
    "error = []\n",
    "for i in range(649):\n",
    "    error.append(((prediction[i] - ans[\"score\"][i]) ** 2)[0])\n",
    "\n",
    "print(error)\n",
    "\n",
    "plt.hist(error)\n",
    "plt.title(\"errors\") \n",
    "plt.show()\n"
   ]
  },
  {
   "cell_type": "markdown",
   "metadata": {},
   "source": [
    "### Финальное предсказание и отчёт\n",
    "\n",
    "Проведите предсказание еще раз и сравните качество с исходным. Запишите свои наблюдения - как изменялось качество обучения модели при использовании разных модификаций данных. "
   ]
  },
  {
   "cell_type": "code",
   "execution_count": 418,
   "metadata": {
    "collapsed": true
   },
   "outputs": [
    {
     "name": "stdout",
     "output_type": "stream",
     "text": [
      "0.16220603077484988\n",
      "-0.33883810444503987\n"
     ]
    },
    {
     "ename": "",
     "evalue": "",
     "output_type": "error",
     "traceback": [
      "\u001b[1;31mThe Kernel crashed while executing code in the the current cell or a previous cell. Please review the code in the cell(s) to identify a possible cause of the failure. Click <a href='https://aka.ms/vscodeJupyterKernelCrash'>here</a> for more info. View Jupyter <a href='command:jupyter.viewOutput'>log</a> for further details."
     ]
    }
   ],
   "source": [
    "\n",
    "data = data.sample(frac=1).reset_index(drop=True)\n",
    "model = LinearRegression()\n",
    "scores = cross_validate(model, data, ans, cv=10, scoring=(\"r2\", \"max_error\"), return_train_score=True)\n",
    "print(sqrt(scores[\"train_r2\"].mean()))\n",
    "print(scores[\"train_max_error\"].mean())"
   ]
  },
  {
   "cell_type": "markdown",
   "metadata": {},
   "source": [
    "# ML это очень интересно, наверно\n",
    "### Хотя и несильно\n",
    "\n",
    "<li>На данной выборке медиана работает лучше, чем среднее значение (хотя и несильно).</li>\n",
    "<li>При добавлении новых столбцов моделька стала обучаться лучше (хотя и несильно)</li>\n",
    "<li>При нормировании ответов и исправлении нулей в них моделька стала обучаться еще лучше (хотя и несильно).</li>\n",
    "\n",
    "### ??\n",
    "Вообще по ощущениям выборка слишком маленькая, чтобы моделька начала выдавать что-то больше похожее на правду. (Да и оценки человека мне кажется довольно сложно так запредиктить)\n",
    "В целом многое зависит от рандома и значения вылетают разные. Хотя оптимизировать все это было, конечно, весело (питон это жесть, а не язык, но удобно, конечно)\n"
   ]
  }
 ],
 "metadata": {
  "kernelspec": {
   "display_name": "Python 3 (ipykernel)",
   "language": "python",
   "name": "python3"
  },
  "language_info": {
   "codemirror_mode": {
    "name": "ipython",
    "version": 3
   },
   "file_extension": ".py",
   "mimetype": "text/x-python",
   "name": "python",
   "nbconvert_exporter": "python",
   "pygments_lexer": "ipython3",
   "version": "3.10.4"
  }
 },
 "nbformat": 4,
 "nbformat_minor": 2
}
