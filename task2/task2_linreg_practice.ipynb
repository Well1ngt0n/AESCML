{
 "cells": [
  {
   "cell_type": "markdown",
   "metadata": {},
   "source": [
    "# ДЗ Линейная регрессия\n",
    "\n",
    "В данном задании мы рассмотрим набор данных об учащихся, собранный в 2006 году в одной из школ Португалии. Данные представлены в неудобном для машинного обучения виде, и содержат мусор. Ваша задача &mdash; привести их к надлежащему виду и обучить на них простую модель.\n",
    "\n",
    "Данные состоят из четырех файлов:\n",
    "- data.csv &mdash; основная таблица с информацией о учащихся\n",
    "- scores.csv &mdash; список финальных оценок по одному из предметов (20-балльная шкала переведенная в проценты)\n",
    "- attendance.csv &mdash; таблица посещений занятий по этому предмету\n",
    "- school_support.txt &mdash; список учащихся, которым оказывается финансовая поддержка\n",
    "\n",
    "Ваша задача &mdash; построить модель для предсказания финальных оценок исходя из всех остальных данных и проверить качество ее работы с помощью кросс-валидации. В качестве алгоритма мы будем использовать линейную регрессию\n",
    "\n",
    "Расшифровка столбцов в data.csv для справки:\n",
    "- age &mdash; возраст\n",
    "- Medu &mdash; уровень образования матери (по некоторой условной шкале)\n",
    "- Fedu &mdash; уровень образования отца (по некоторой условной шкале)\n",
    "- traveltime &mdash; время в пути до школы (1 – < 15 мин., 2 – от 15 до 30 мин., 3 – от 30 мин. to 1 ч.\n",
    "или 4 – > 1 ч.)\n",
    "- studytime &mdash; время, затрачиваемое на занятия вне школы (1 – < 2 ч., 2 – от 2 до 5 ч., 3 – от 5 до 10 ч. или 4 – > 10 ч.)\n",
    "- famrel &mdash; насколько хорошие отношения в семье у учащегося (по некоторой условной шкале)\n",
    "- freetime &mdash; количество свободного времени вне школы (по некоторой условной шкале)\n",
    "- goout &mdash; время, затрачиваемое на общение с друзьями (по некоторой условной шкале)\n",
    "- Dalc &mdash; количество употребления алкоголя в учебные дни (по некоторой условной шкале)\n",
    "- Walc &mdash; количество употребления алкоголя в неучебные дни (по некоторой условной шкале)\n",
    "- health &mdash; уровень здоровья (по некоторой условной шкале)\n",
    "- sex_M &mdash; пол: мужской (1) или женский (0)\n",
    "- address_U &mdash; живет ли учащийся в городе (1) или в пригороде (0)\n",
    "- famsize_LE3 &mdash; размер семьи: не больше 3 человек (1) или больше (0)\n",
    "- Pstatus_T &mdash; живут ли родители вместе (1) или отдельно (0)\n",
    "- nursery &mdash; посещал ли учащийся детский сад\n",
    "- plans_university &mdash; планирует ли учащийся поступать в университет (-1 или 1)\n",
    "- past_failures &mdash; количество неудовлетворительных оценок по другим предметам ранее (от 0 до 4)\n",
    "\n",
    "*Примечание. Несколько признаков в данных содержат ошибки/проблемы/некорректности. Эти проблемы нужно исправить. Для\n",
    "проверки &mdash; всего в данных таких проблем четыре.*"
   ]
  },
  {
   "cell_type": "markdown",
   "metadata": {},
   "source": [
    "### Задача 1: сломанный признак (а может и не один)\n",
    "__(1 балл)__\n",
    "\n",
    "Загрузите таблицу data.csv.\n",
    "\n",
    "Найдите в данных сломанный признак (он не соответствует описанию) и исправьте его."
   ]
  },
  {
   "cell_type": "code",
   "execution_count": 12,
   "metadata": {
    "collapsed": true
   },
   "outputs": [],
   "source": [
    "import csv\n",
    "\n",
    "with open(\"data.csv\", encoding=\"utf-8\") as rFile:\n",
    "    reader = csv.reader(rFile, delimiter=',')\n",
    "    with open(\"data_fixed.csv\", mode='w', encoding=\"utf-8\") as wFile:\n",
    "        writer = csv.writer(wFile, delimiter=',', lineterminator=\"\\r\")\n",
    "        writer.writerow(['age', 'Medu', 'Fedu', 'traveltime', 'studytime', 'famrel', 'freetime', 'goout', 'Dalc', 'Walc', 'health', 'sex_M', 'address_U', 'famsize_LE3', 'Pstatus_T', 'nursery', 'plans_university', 'past_failures'])\n",
    "        fl = 0\n",
    "        for row in reader:\n",
    "            if fl == 0:\n",
    "                fl = 1\n",
    "                continue\n",
    "            if (int(row[0]) > 100):\n",
    "                row[0] = str(2016 - int(row[0]))\n",
    "            last = row[-1]\n",
    "            row[-1] = last[:len(last) - 1]\n",
    "            row.append(last[len(last) - 1])\n",
    "            writer.writerow(row)"
   ]
  },
  {
   "cell_type": "markdown",
   "metadata": {},
   "source": [
    "### Задача 2: пропуски в данных \n",
    "__(1 балл)__\n",
    "\n",
    "Проверьте, есть ли в данных пропуски (значения NaN). Замените все пропущенные значения на среднее значение этого признака по столбцу.\n",
    "\n",
    "__(+1 балл)__\n",
    "\n",
    "Дополнительно сравните качество замены на среднее по столбцу и на медиану по столбцу\n",
    "\n",
    "\n",
    "*Hint: изучите в pandas функции loc, isnull, а также передачу булевых массивов в качестве индексов.*"
   ]
  },
  {
   "cell_type": "code",
   "execution_count": 71,
   "metadata": {
    "collapsed": true
   },
   "outputs": [],
   "source": [
    "import pandas as pd\n",
    "\n",
    "pd.options.mode.chained_assignment = None \n",
    "\n",
    "df = pd.read_csv(\"data_fixed.csv\", delimiter=',')\n",
    "\n",
    "for col in df:\n",
    "    df[col][df[col].isnull()] = df[col].mean()\n",
    "\n",
    "df.to_csv(\"data_fixed2.csv\", index=False)\n",
    "\n",
    "# Чето не получается сравнивать без модельки\n",
    "        "
   ]
  },
  {
   "cell_type": "code",
   "execution_count": 72,
   "metadata": {},
   "outputs": [],
   "source": [
    "import pandas as pd\n",
    "\n",
    "pd.options.mode.chained_assignment = None \n",
    "\n",
    "df = pd.read_csv(\"data_fixed.csv\", delimiter=',')\n",
    "\n",
    "for col in df:\n",
    "    df[col][df[col].isnull()] = df[col].median()\n",
    "\n",
    "df.to_csv(\"data_fixed2.csv\", index=False)\n",
    "\n",
    "# Чето не получается сравнивать без модельки"
   ]
  },
  {
   "cell_type": "markdown",
   "metadata": {},
   "source": [
    "### Задача 3: нормализация данных\n",
    "__(1 балл)__\n",
    "\n",
    "Нормализуйте данные любым способом"
   ]
  },
  {
   "cell_type": "code",
   "execution_count": 158,
   "metadata": {
    "collapsed": true
   },
   "outputs": [
    {
     "name": "stdout",
     "output_type": "stream",
     "text": [
      "          age  Medu  Fedu  traveltime  studytime  famrel  freetime  goout  \\\n",
      "0    0.551724  1.00  1.00        0.02       0.50     1.0       0.8    0.8   \n",
      "1    0.586207  1.00  1.00        0.02       0.25     1.0       0.6    0.8   \n",
      "2    0.551724  0.25  0.25        0.04       0.25     0.8       1.0    1.0   \n",
      "3    0.620690  0.25  0.50        0.04       0.25     0.6       0.8    0.8   \n",
      "4    0.586207  0.50  0.25        0.04       0.50     0.8       0.4    1.0   \n",
      "..        ...   ...   ...         ...        ...     ...       ...    ...   \n",
      "644  0.620690  0.50  0.50        0.08       0.50     0.8       0.4    1.0   \n",
      "645  0.517241  1.00  1.00        0.04       0.50     0.8       0.6    0.2   \n",
      "646  0.724138  0.25  0.25        0.04       0.50     1.0       0.6    0.6   \n",
      "647  0.551724  0.50  0.50        0.02       0.25     0.8       0.6    0.8   \n",
      "648  0.551724  0.50  0.75        0.80       0.50     0.8       1.0    0.8   \n",
      "\n",
      "     Dalc  Walc  health  sex_M  address_U  famsize_LE3  Pstatus_T  nursery  \\\n",
      "0     0.2   0.4     1.0    1.0        1.0          0.0        1.0      1.0   \n",
      "1     0.2   0.4     1.0    0.0        1.0          0.0        1.0      1.0   \n",
      "2     0.4   0.8     1.0    1.0        0.0          1.0        1.0      1.0   \n",
      "3     0.4   0.8     0.8    1.0        1.0          0.0        1.0      0.0   \n",
      "4     0.2   0.4     1.0    0.0        0.0          0.0        1.0      1.0   \n",
      "..    ...   ...     ...    ...        ...          ...        ...      ...   \n",
      "644   0.2   0.2     0.4    0.0        1.0          0.0        1.0      1.0   \n",
      "645   0.2   0.2     1.0    1.0        1.0          0.0        1.0      1.0   \n",
      "646   1.0   0.4     0.8    1.0        0.0          1.0        1.0      1.0   \n",
      "647   0.2   0.4     0.2    0.0        1.0          1.0        0.0      1.0   \n",
      "648   0.2   0.4     0.2    0.0        0.0          0.0        1.0      1.0   \n",
      "\n",
      "     plans_university  past_failures  \n",
      "0                 1.0       0.000000  \n",
      "1                 1.0       0.000000  \n",
      "2                 1.0       0.000000  \n",
      "3                -1.0       0.000000  \n",
      "4                 1.0       0.000000  \n",
      "..                ...            ...  \n",
      "644               1.0       0.000000  \n",
      "645               1.0       0.000000  \n",
      "646              -1.0       0.666667  \n",
      "647              -1.0       0.000000  \n",
      "648               1.0       0.000000  \n",
      "\n",
      "[649 rows x 18 columns]\n"
     ]
    }
   ],
   "source": [
    "import pandas as pd\n",
    "import numpy as np\n",
    "\n",
    "df = pd.read_csv(\"data_fixed2.csv\")\n",
    "\n",
    "for col in df:\n",
    "    df[col] /= max(abs(df[col]))\n",
    "\n",
    "print(df)\n",
    "df.to_csv(\"data_fixed3.csv\", index=False)\n",
    "\n"
   ]
  },
  {
   "cell_type": "markdown",
   "metadata": {},
   "source": [
    "### Задача 4: кросс-валидация для исходных данных\n",
    "__(1 балл)__\n",
    "\n",
    "Загрузите файл scores.csv и протестируйте, как линейная регрессия предсказывает ответ сейчас (с помощью кросс-валидации).\n",
    "\n",
    "*Hint: воспользуйтесь sklearn.linear_model и sklearn.model_selection.*"
   ]
  },
  {
   "cell_type": "code",
   "execution_count": 188,
   "metadata": {},
   "outputs": [
    {
     "name": "stdout",
     "output_type": "stream",
     "text": [
      "0.1916419790882873\n",
      "-61.52519606435809\n"
     ]
    }
   ],
   "source": [
    "import pandas as pd\n",
    "import numpy as np\n",
    "from math import sqrt\n",
    "from sklearn.linear_model import LinearRegression\n",
    "from sklearn.model_selection import cross_validate\n",
    "\n",
    "data = pd.read_csv(\"data_fixed3.csv\")\n",
    "ans = pd.read_csv(\"scores.csv\")\n",
    "\n",
    "data = data.sample(frac=1).reset_index(drop=True)\n",
    "model = LinearRegression()\n",
    "scores = cross_validate(model, data, ans, cv=10, scoring=(\"r2\", \"max_error\"), return_train_score=True)\n",
    "print(sqrt(scores[\"train_r2\"].mean()))\n",
    "print(scores[\"train_max_error\"].mean())\n",
    "\n",
    "# В целом работает неплохо, но видимо когда оценка у чела 0, ошибается"
   ]
  },
  {
   "cell_type": "markdown",
   "metadata": {},
   "source": [
    "### Задача 5: полные данные\n",
    "__(2 балла)__\n",
    "\n",
    "Воспользуйтесь файлами attendance.csv и school_support.txt для того, чтобы добавить новые признаки в данные. Желательно по максимуму использовать возможности pandas для упрощения преобразований.\n",
    "\n",
    "school_suport число в строке значит что i-ый школьник из исходной таблицы получал мат помощь (обратите внимание что строк в файле меньше, подумайте как правильно импортировать данные)\n",
    "\n",
    "Попробуйте несколько способов добавления полных данных"
   ]
  },
  {
   "cell_type": "code",
   "execution_count": 232,
   "metadata": {
    "collapsed": true
   },
   "outputs": [],
   "source": [
    "import pandas as pd\n",
    "import numpy as np\n",
    "\n",
    "data = pd.read_csv(\"data_fixed2.csv\")\n",
    "\n",
    "school_sup = np.array([0] * 649)\n",
    "\n",
    "with open(\"school_support.txt\", \"r\", encoding=\"utf-8\") as sch_sup_file:\n",
    "    inds = [int(i) - 1 for i in sch_sup_file.readlines()]\n",
    "    school_sup[inds] = 1\n",
    "data[\"school_support\"] = school_sup\n",
    "\n",
    "attendance = pd.read_csv(\"attendance.csv\", sep=';')\n",
    "attendance_new = []\n",
    "for i, row in attendance.iterrows():\n",
    "    attendance_new.append(32 - len(row[row == '+']))\n",
    "attendance_new = np.array(attendance_new)"
   ]
  },
  {
   "cell_type": "code",
   "execution_count": 289,
   "metadata": {},
   "outputs": [],
   "source": [
    "data[\"attendance\"] = attendance_new / 32 # работает лучше всего"
   ]
  },
  {
   "cell_type": "code",
   "execution_count": 239,
   "metadata": {},
   "outputs": [],
   "source": [
    "data[\"attendance\"] = attendance_new"
   ]
  },
  {
   "cell_type": "code",
   "execution_count": 241,
   "metadata": {},
   "outputs": [],
   "source": [
    "data[\"attendance\"] = 32 - attendance_new"
   ]
  },
  {
   "cell_type": "code",
   "execution_count": 274,
   "metadata": {},
   "outputs": [],
   "source": [
    "data[\"attendance\"] = (32 - attendance_new) / 32 # эта штука тоже неплохо на самом деле"
   ]
  },
  {
   "cell_type": "code",
   "execution_count": 288,
   "metadata": {},
   "outputs": [
    {
     "name": "stdout",
     "output_type": "stream",
     "text": [
      "0.22516709200964238\n",
      "-62.5811639119994\n"
     ]
    }
   ],
   "source": [
    "data = data.sample(frac=1).reset_index(drop=True)\n",
    "model = LinearRegression()\n",
    "scores = cross_validate(model, data, ans, cv=10, scoring=(\"r2\", \"max_error\"), return_train_score=True)\n",
    "print(sqrt(scores[\"train_r2\"].mean()))\n",
    "print(scores[\"train_max_error\"].mean())"
   ]
  },
  {
   "cell_type": "markdown",
   "metadata": {},
   "source": [
    "### Задача 6: борьба с выбросами\n",
    "__(1.5 балла)__\n",
    "\n",
    "Качество предсказания может ухудшаться, если в данных присутствуют корректные значения признаков (с точки зрения чтения данных и применения методов), но не соответствующие реальным объектам. Например, данные могли быть введены в неверном формате, а потом слишком грубо приведены к общему виду, из-за чего ошибка не была замечена.\n",
    "Попробуем от такого избавиться &mdash; а для этого такие объекты нужно сначала найти. Конечно, нам еще недоступны многие продвинутые способы, но давайте попробуем обойтись простыми.\n",
    "\n",
    "Первый способ это сделать &mdash; посмотреть для каждого признака на распределение его значений и проверить крайние значения на правдоподобность. (постройте гистограммы для признаков, как минимум для подозрительных)\n",
    "\n",
    "*Hint 1: используйте функцию DataFrame.hist*\n",
    "\n",
    "*Hint 2: в описании датасета выше есть информация, необходимая для восстановления правильных значений*"
   ]
  },
  {
   "cell_type": "code",
   "execution_count": 293,
   "metadata": {
    "collapsed": true
   },
   "outputs": [
    {
     "name": "stdout",
     "output_type": "stream",
     "text": [
      "0       1\n",
      "1       1\n",
      "2       2\n",
      "3       2\n",
      "4       2\n",
      "       ..\n",
      "644     4\n",
      "645     2\n",
      "646     2\n",
      "647     1\n",
      "648    40\n",
      "Name: traveltime, Length: 649, dtype: int64\n"
     ]
    },
    {
     "data": {
      "text/plain": [
       "<Axes: >"
      ]
     },
     "execution_count": 293,
     "metadata": {},
     "output_type": "execute_result"
    },
    {
     "data": {
      "image/png": "[encoded data removed]",
      "text/plain": [
       "<Figure size 640x480 with 1 Axes>"
      ]
     },
     "metadata": {},
     "output_type": "display_data"
    }
   ],
   "source": [
    "import pandas as pd\n",
    "import numpy as np\n",
    "\n",
    "data = pd.read_csv(\"data_fixed4.csv\")\n",
    "# data.hist()\n",
    "print(data[\"traveltime\"])\n",
    "data[\"traveltime\"].hist()\n",
    "\n"
   ]
  },
  {
   "cell_type": "code",
   "execution_count": 298,
   "metadata": {},
   "outputs": [
    {
     "name": "stderr",
     "output_type": "stream",
     "text": [
      "C:\\Users\\ohmei\\AppData\\Local\\Temp\\ipykernel_9016\\964442674.py:3: FutureWarning: Setting an item of incompatible dtype is deprecated and will raise in a future error of pandas. Value '16.565217391304348' has dtype incompatible with int64, please explicitly cast to a compatible dtype first.\n",
      "  data[\"age\"][data[\"age\"] > 18] = data[\"age\"][data[\"age\"] <= 18].mean()\n"
     ]
    }
   ],
   "source": [
    "data = pd.read_csv(\"data_fixed4.csv\")\n",
    "\n",
    "data[\"age\"][data[\"age\"] > 18] = data[\"age\"][data[\"age\"] <= 18].mean()\n",
    "# data[\"traveltime\"][4 < data[\"traveltime\"] < 15] = 1\n",
    "# data[\"traveltime\"][15 <= data[\"traveltime\"] < 30] = 2\n",
    "# data[\"traveltime\"][30 <= data[\"traveltime\"] < 60] = 3\n",
    "# data[\"traveltime\"][60 <= data[\"traveltime\"]] = 4\n",
    "\n",
    "for i in range(len(data['traveltime'])):\n",
    "    if data['traveltime'][i] > 4:\n",
    "        if data['traveltime'][i] < 15:\n",
    "            data['traveltime'][i] = 1\n",
    "        elif data['traveltime'][i] < 30:\n",
    "            data['traveltime'][i] = 2\n",
    "        elif data['traveltime'][i] < 60:\n",
    "            data['traveltime'][i] = 3\n",
    "        else:\n",
    "            data['traveltime'][i] = 4\n",
    "\n",
    "data.to_csv(\"data_fixed5.csv\", index=False)\n"
   ]
  },
  {
   "cell_type": "markdown",
   "metadata": {},
   "source": [
    "__(1.5 балла)__"
   ]
  },
  {
   "cell_type": "markdown",
   "metadata": {},
   "source": [
    "Другой простой способ найти выбросы &mdash; сделать предсказаниепосчитать ошибку на каждом объекте по отдельности и посмотреть на объекты с наибольшей ошибкой. Обратите внимание, что просто удалять все объекты с высокой ошибкой нельзя &mdash; это, конечно, хороший способ добиться меньшей ошибки (на данной выборке), но одновременно вы ухудшите обобщающую способность алгоритма. Вместо этого вам нужно найти однозначно ошибочные записи и их исправить.\n",
    "\n",
    "*Hint: возможно, все проблемы уже были найдены первым способом; для проверки &mdash; в сумме здесь нужно исправить 3 проблемы.*"
   ]
  },
  {
   "cell_type": "markdown",
   "metadata": {},
   "source": [
    "Для поиска ошибки на одном отдельном обьекте придётся обучить линейную регрессию руками. Частичный пример, допишите код. Постройте гистограмму распределения ошибок"
   ]
  },
  {
   "cell_type": "code",
   "execution_count": 304,
   "metadata": {},
   "outputs": [],
   "source": [
    "import sklearn\n",
    "from sklearn import linear_model\n",
    "\n",
    "for col in data:\n",
    "    data[col] /= max(abs(data[col]))\n",
    "\n",
    "regression = linear_model.LinearRegression().fit(data, ans) #create model and train it\n",
    "\n",
    "errors = []\n",
    "\n",
    "for i in range(649):\n",
    "    x = [data.iloc[i]]\n",
    "    y = ans[\"score\"][0]\n",
    "    prediction = model.predict(x);\n",
    "\n",
    "    error = (prediction - y)**2 \n",
    "    errors.append((error, prediction, y, i))\n",
    "\n",
    "errors = sorted(errors)[::-1]\n",
    "for error, pred_y, y, ind in errors:\n",
    "    print(error, pred_y, y, ind, data.iloc[i])\n",
    "\n",
    "\n",
    "\n"
   ]
  },
  {
   "cell_type": "code",
   "execution_count": 1,
   "metadata": {},
   "outputs": [],
   "source": [
    "# Your code here\n",
    "# ..."
   ]
  },
  {
   "cell_type": "markdown",
   "metadata": {},
   "source": [
    "### Финальное предсказание и отчёт\n",
    "\n",
    "Проведите предсказание еще раз и сравните качество с исходным. Запишите свои наблюдения - как изменялось качество обучения модели при использовании разных модификаций данных. "
   ]
  },
  {
   "cell_type": "code",
   "execution_count": null,
   "metadata": {
    "collapsed": true
   },
   "outputs": [],
   "source": [
    "# Your code here\n",
    "# ..."
   ]
  }
 ],
 "metadata": {
  "kernelspec": {
   "display_name": "Python 3 (ipykernel)",
   "language": "python",
   "name": "python3"
  },
  "language_info": {
   "codemirror_mode": {
    "name": "ipython",
    "version": 3
   },
   "file_extension": ".py",
   "mimetype": "text/x-python",
   "name": "python",
   "nbconvert_exporter": "python",
   "pygments_lexer": "ipython3",
   "version": "3.10.4"
  }
 },
 "nbformat": 4,
 "nbformat_minor": 2
}
